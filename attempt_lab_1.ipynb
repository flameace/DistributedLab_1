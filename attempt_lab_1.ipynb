{
  "nbformat": 4,
  "nbformat_minor": 0,
  "metadata": {
    "colab": {
      "name": "Untitled33.ipynb",
      "provenance": []
    },
    "kernelspec": {
      "name": "python3",
      "display_name": "Python 3"
    },
    "language_info": {
      "name": "python"
    }
  },
  "cells": [
    {
      "cell_type": "code",
      "execution_count": null,
      "metadata": {
        "id": "9C8aiWubIvo1"
      },
      "outputs": [],
      "source": [
        "import time"
      ]
    },
    {
      "cell_type": "code",
      "source": [
        "import secrets\n",
        "\n",
        "secrets.token_hex(2)"
      ],
      "metadata": {
        "colab": {
          "base_uri": "https://localhost:8080/",
          "height": 35
        },
        "id": "rLs5zPpDLAAk",
        "outputId": "bbd8dd26-7666-4cf1-cef7-abdb854035b9"
      },
      "execution_count": null,
      "outputs": [
        {
          "output_type": "execute_result",
          "data": {
            "text/plain": [
              "'2102'"
            ],
            "application/vnd.google.colaboratory.intrinsic+json": {
              "type": "string"
            }
          },
          "metadata": {},
          "execution_count": 94
        }
      ]
    },
    {
      "cell_type": "code",
      "source": [
        "for i in [8, 16, 32, 64, 128, 256, 512, 1024, 2048, 4096]:\n",
        "    print(f\"Количество бит {i}, макс. число в 10-чной {int('1'*i, 2)}\")"
      ],
      "metadata": {
        "colab": {
          "base_uri": "https://localhost:8080/"
        },
        "id": "6WviTJ9wM9e_",
        "outputId": "40498c24-68d6-434c-ae15-b2d4c83fd49b"
      },
      "execution_count": null,
      "outputs": [
        {
          "output_type": "stream",
          "name": "stdout",
          "text": [
            "Количество бит 8, макс. число в 10-чной 255\n",
            "Количество бит 16, макс. число в 10-чной 65535\n",
            "Количество бит 32, макс. число в 10-чной 4294967295\n",
            "Количество бит 64, макс. число в 10-чной 18446744073709551615\n",
            "Количество бит 128, макс. число в 10-чной 340282366920938463463374607431768211455\n",
            "Количество бит 256, макс. число в 10-чной 115792089237316195423570985008687907853269984665640564039457584007913129639935\n",
            "Количество бит 512, макс. число в 10-чной 13407807929942597099574024998205846127479365820592393377723561443721764030073546976801874298166903427690031858186486050853753882811946569946433649006084095\n",
            "Количество бит 1024, макс. число в 10-чной 179769313486231590772930519078902473361797697894230657273430081157732675805500963132708477322407536021120113879871393357658789768814416622492847430639474124377767893424865485276302219601246094119453082952085005768838150682342462881473913110540827237163350510684586298239947245938479716304835356329624224137215\n",
            "Количество бит 2048, макс. число в 10-чной 32317006071311007300714876688669951960444102669715484032130345427524655138867890893197201411522913463688717960921898019494119559150490921095088152386448283120630877367300996091750197750389652106796057638384067568276792218642619756161838094338476170470581645852036305042887575891541065808607552399123930385521914333389668342420684974786564569494856176035326322058077805659331026192708460314150258592864177116725943603718461857357598351152301645904403697613233287231227125684710820209725157101726931323469678542580656697935045997268352998638215525166389437335543602135433229604645318478604952148193555853611059596230655\n",
            "Количество бит 4096, макс. число в 10-чной 1044388881413152506691752710716624382579964249047383780384233483283953907971557456848826811934997558340890106714439262837987573438185793607263236087851365277945956976543709998340361590134383718314428070011855946226376318839397712745672334684344586617496807908705803704071284048740118609114467977783598029006686938976881787785946905630190260940599579453432823469303026696443059025015972399867714215541693835559885291486318237914434496734087811872639496475100189041349008417061675093668333850551032972088269550769983616369411933015213796825837188091833656751221318492846368125550225998300412344784862595674492194617023806505913245610825731835380087608622102834270197698202313169017678006675195485079921636419370285375124784014907159135459982790513399611551794271106831134090584272884279791554849782954323534517065223269061394905987693002122963395687782878948440616007412945674919823050571642377154816321380631045902916136926708342856440730447899971901781465763473223850267253059899795996090799469201774624817718449867455659250178329070473119433165550807568221846571746373296884912819520317457002440926616910874148385078411929804522981857338977648103126085903001302413467189726673216491511131602920781738033436090243804708340403154190335\n"
          ]
        }
      ]
    },
    {
      "cell_type": "code",
      "source": [
        "int('f'*1*2, 16)"
      ],
      "metadata": {
        "colab": {
          "base_uri": "https://localhost:8080/"
        },
        "id": "C5yt7XVBN_C4",
        "outputId": "77aa0e39-e62f-4d33-f538-cc737e83fc57"
      },
      "execution_count": null,
      "outputs": [
        {
          "output_type": "execute_result",
          "data": {
            "text/plain": [
              "255"
            ]
          },
          "metadata": {},
          "execution_count": 126
        }
      ]
    },
    {
      "cell_type": "code",
      "source": [
        "start = secrets.token_hex(1)\n",
        "end = secrets.token_hex(2)"
      ],
      "metadata": {
        "id": "iAjYGUSiLc0K"
      },
      "execution_count": null,
      "outputs": []
    },
    {
      "cell_type": "code",
      "source": [
        "for i in range(int('ff', 16)+1):\n",
        "    print(i)"
      ],
      "metadata": {
        "id": "hqzdx3W0LgDm"
      },
      "execution_count": null,
      "outputs": []
    },
    {
      "cell_type": "code",
      "source": [
        "for bits in [8, 16, 32, 64, 128, 256, 512, 1024, 2048, 4096]:\n",
        "    print('Количество бит', bits)\n",
        "    print('Пространство ключей', 2**bits)"
      ],
      "metadata": {
        "colab": {
          "base_uri": "https://localhost:8080/"
        },
        "id": "xr7B6KAGQpL8",
        "outputId": "01b5b3bb-7b27-41df-ed4f-5b55affd2d68"
      },
      "execution_count": null,
      "outputs": [
        {
          "output_type": "stream",
          "name": "stdout",
          "text": [
            "Количество бит 8\n",
            "Пространство ключей 256\n",
            "Количество бит 16\n",
            "Пространство ключей 65536\n",
            "Количество бит 32\n",
            "Пространство ключей 4294967296\n",
            "Количество бит 64\n",
            "Пространство ключей 18446744073709551616\n",
            "Количество бит 128\n",
            "Пространство ключей 340282366920938463463374607431768211456\n",
            "Количество бит 256\n",
            "Пространство ключей 115792089237316195423570985008687907853269984665640564039457584007913129639936\n",
            "Количество бит 512\n",
            "Пространство ключей 13407807929942597099574024998205846127479365820592393377723561443721764030073546976801874298166903427690031858186486050853753882811946569946433649006084096\n",
            "Количество бит 1024\n",
            "Пространство ключей 179769313486231590772930519078902473361797697894230657273430081157732675805500963132708477322407536021120113879871393357658789768814416622492847430639474124377767893424865485276302219601246094119453082952085005768838150682342462881473913110540827237163350510684586298239947245938479716304835356329624224137216\n",
            "Количество бит 2048\n",
            "Пространство ключей 32317006071311007300714876688669951960444102669715484032130345427524655138867890893197201411522913463688717960921898019494119559150490921095088152386448283120630877367300996091750197750389652106796057638384067568276792218642619756161838094338476170470581645852036305042887575891541065808607552399123930385521914333389668342420684974786564569494856176035326322058077805659331026192708460314150258592864177116725943603718461857357598351152301645904403697613233287231227125684710820209725157101726931323469678542580656697935045997268352998638215525166389437335543602135433229604645318478604952148193555853611059596230656\n",
            "Количество бит 4096\n",
            "Пространство ключей 1044388881413152506691752710716624382579964249047383780384233483283953907971557456848826811934997558340890106714439262837987573438185793607263236087851365277945956976543709998340361590134383718314428070011855946226376318839397712745672334684344586617496807908705803704071284048740118609114467977783598029006686938976881787785946905630190260940599579453432823469303026696443059025015972399867714215541693835559885291486318237914434496734087811872639496475100189041349008417061675093668333850551032972088269550769983616369411933015213796825837188091833656751221318492846368125550225998300412344784862595674492194617023806505913245610825731835380087608622102834270197698202313169017678006675195485079921636419370285375124784014907159135459982790513399611551794271106831134090584272884279791554849782954323534517065223269061394905987693002122963395687782878948440616007412945674919823050571642377154816321380631045902916136926708342856440730447899971901781465763473223850267253059899795996090799469201774624817718449867455659250178329070473119433165550807568221846571746373296884912819520317457002440926616910874148385078411929804522981857338977648103126085903001302413467189726673216491511131602920781738033436090243804708340403154190336\n"
          ]
        }
      ]
    },
    {
      "cell_type": "code",
      "source": [
        "for bits in [8, 16, 32, 64, 128, 256, 512, 1024, 2048, 4096]:\n",
        "    print('Количество бит', bits)\n",
        "    print('Диапазон от', hex(0), ' до', hex(2**bits-1))\n",
        "    print('Сгенерированное значение ключа', hex(int(secrets.token_hex(bits // 8), 16)))\n",
        "    print('###################################################################')"
      ],
      "metadata": {
        "colab": {
          "base_uri": "https://localhost:8080/"
        },
        "id": "chACpsdzQ4xq",
        "outputId": "230bf18d-efac-4146-8d83-e20cdbb7afc4"
      },
      "execution_count": null,
      "outputs": [
        {
          "output_type": "stream",
          "name": "stdout",
          "text": [
            "Количество бит 8\n",
            "Диапазон от 0x0  до 0xff\n",
            "Сгенерированное значение ключа 0x12\n",
            "###################################################################\n",
            "Количество бит 16\n",
            "Диапазон от 0x0  до 0xffff\n",
            "Сгенерированное значение ключа 0x918e\n",
            "###################################################################\n",
            "Количество бит 32\n",
            "Диапазон от 0x0  до 0xffffffff\n",
            "Сгенерированное значение ключа 0x2f69a2f4\n",
            "###################################################################\n",
            "Количество бит 64\n",
            "Диапазон от 0x0  до 0xffffffffffffffff\n",
            "Сгенерированное значение ключа 0x5b1905088f4cb782\n",
            "###################################################################\n",
            "Количество бит 128\n",
            "Диапазон от 0x0  до 0xffffffffffffffffffffffffffffffff\n",
            "Сгенерированное значение ключа 0x2826e92c537efe628ca5ef18e6c05e2d\n",
            "###################################################################\n",
            "Количество бит 256\n",
            "Диапазон от 0x0  до 0xffffffffffffffffffffffffffffffffffffffffffffffffffffffffffffffff\n",
            "Сгенерированное значение ключа 0x67ee5db3e5232ee0f545a9b7ced9827c3854d658a10cd580839a7bf33efec02c\n",
            "###################################################################\n",
            "Количество бит 512\n",
            "Диапазон от 0x0  до 0xffffffffffffffffffffffffffffffffffffffffffffffffffffffffffffffffffffffffffffffffffffffffffffffffffffffffffffffffffffffffffffffff\n",
            "Сгенерированное значение ключа 0xd928a2048d4f1f4f7e1db2409f853583a4d11f7942a2d4d93069ecc12514cc46541e83a1cca3193d8cf8f12f886ec0a1ca79cec5d8cc818ea2f8e2085e17c908\n",
            "###################################################################\n",
            "Количество бит 1024\n",
            "Диапазон от 0x0  до 0xffffffffffffffffffffffffffffffffffffffffffffffffffffffffffffffffffffffffffffffffffffffffffffffffffffffffffffffffffffffffffffffffffffffffffffffffffffffffffffffffffffffffffffffffffffffffffffffffffffffffffffffffffffffffffffffffffffffffffffffffffffffffffffffff\n",
            "Сгенерированное значение ключа 0x378f5e0a6f109a59ef6c60c1d07301f3fe35cd4b824f35d1de389e2fe18ab2446e7b73b9d6970d057a149fdf3556e39be0cba7828a66e84706c08a9ddff362d576cd8a32aef1b51ed8bef28294c3a0f6ea9b26d7567a5f01a023249d40f834ffc3c849e6cb00ae12dfa7fd5746e1a57038fc2dce296de902fcb186ccfce1bccd\n",
            "###################################################################\n",
            "Количество бит 2048\n",
            "Диапазон от 0x0  до 0xffffffffffffffffffffffffffffffffffffffffffffffffffffffffffffffffffffffffffffffffffffffffffffffffffffffffffffffffffffffffffffffffffffffffffffffffffffffffffffffffffffffffffffffffffffffffffffffffffffffffffffffffffffffffffffffffffffffffffffffffffffffffffffffffffffffffffffffffffffffffffffffffffffffffffffffffffffffffffffffffffffffffffffffffffffffffffffffffffffffffffffffffffffffffffffffffffffffffffffffffffffffffffffffffffffffffffffffffffffffffffffffffffffffffffffffffffffffffffffffffffffffffffffffffffffffffffffffff\n",
            "Сгенерированное значение ключа 0x8a5d0086e450c4e402ac946a4056ceeef3d5fd0bbc5af6caea4be6d1f2a277edba9a97063e5804cf2e8b6137f4e7cafe3d4e30022a33d5cf18cbe8bb4987ee453c2c7645c15bc10a6c2cc9740801d5ffe91abc082eb072e9b669109b492a4c3693c6c4769cc12122dd686cfc8ca06d725eae39d856997964906ecc59620c7d2476c26a2be1b765f94cdcc3a76a137899705bbd0ee303620eb2419dbdd028158848ef9f57c4209d5fd4615f9ebb26baa88a63cdd162e74c5b42ce4847330b81edba540deec365b80fba38b6d620ad08048341c7d8622483c502796188d389ed3f46ba1a1c3aacd94eae3acde299c964244aff1cfdd2668d36d76f365b55cf9193\n",
            "###################################################################\n",
            "Количество бит 4096\n",
            "Диапазон от 0x0  до 0xffffffffffffffffffffffffffffffffffffffffffffffffffffffffffffffffffffffffffffffffffffffffffffffffffffffffffffffffffffffffffffffffffffffffffffffffffffffffffffffffffffffffffffffffffffffffffffffffffffffffffffffffffffffffffffffffffffffffffffffffffffffffffffffffffffffffffffffffffffffffffffffffffffffffffffffffffffffffffffffffffffffffffffffffffffffffffffffffffffffffffffffffffffffffffffffffffffffffffffffffffffffffffffffffffffffffffffffffffffffffffffffffffffffffffffffffffffffffffffffffffffffffffffffffffffffffffffffffffffffffffffffffffffffffffffffffffffffffffffffffffffffffffffffffffffffffffffffffffffffffffffffffffffffffffffffffffffffffffffffffffffffffffffffffffffffffffffffffffffffffffffffffffffffffffffffffffffffffffffffffffffffffffffffffffffffffffffffffffffffffffffffffffffffffffffffffffffffffffffffffffffffffffffffffffffffffffffffffffffffffffffffffffffffffffffffffffffffffffffffffffffffffffffffffffffffffffffffffffffffffffffffffffffffffffffffffffffffffffffffffffffffffffffffffffffffffffffffffffffffffffffffffffffffffffffffff\n",
            "Сгенерированное значение ключа 0xc3aed13105f7f64a8f3af89329acd034c053a902e3d74224b4b4fd8edcecd1ef36b8028c04ec7727739bdbe1e4365ab8c9c97f6c0853518aeaad4578548bd8a7b5bdff99849fa1d01d56c0c9d209bda6f3499400805afa31f36dfb5eeee7bd686414cf8a03dd4a644934f9efb828c168c3cf5f846dc49ebdb3dc7beed20695ea8712f906f8b16537512ca2e83a3048e121de6d9d80d000a878b62bb88a0e33458d88e97e43dcef03a9c3c4b40b42aaabc760e06ad030b47e43018c7e14f226ac9136eb26a38ad8c2a7833009e33f34e3247107a229b444bec9dc58486a1976d84ccd47ea3dc02ad0253affba93c0d5187e176d8bf93d1eaf78da06dc39bb02c0ea7ff43d3e1633d53451176415a0714d04125fda4547ef40029db320776798c72cdc3e6aa68d194b15c6034f5a9151f305f81837be0c767732eb755edb49c365401478823defae3010f21ca787dd12f02049582322f03135f3a56c8543d991c5bdc07cdef67c7b98ee334950d7bba6f87de1327335985b517ccb8992aeb4f988fefd6b1737bfebbe6a926c707994ad2e7bd80e7cab4c0bc652079d3e7c6e99e8c5a4a906d4583024c724b67a75108cb442798b80e68cf7264e715ff9189d501f039c86dcc559b6ee107e4eff7ae2aa92668a8bf3e37a20e230f778d563364eb757c7a25bc47cc369b2893623651827ac6cc474f2f8e6a18749786fa850f7898a\n",
            "###################################################################\n"
          ]
        }
      ]
    },
    {
      "cell_type": "code",
      "source": [
        ""
      ],
      "metadata": {
        "id": "aYHkXF4Dgbbi"
      },
      "execution_count": null,
      "outputs": []
    }
  ]
}